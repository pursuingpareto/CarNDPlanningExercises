{
 "cells": [
  {
   "cell_type": "code",
   "execution_count": 435,
   "metadata": {
    "collapsed": false
   },
   "outputs": [],
   "source": [
    "import road\n",
    "import vehicle\n",
    "reload(road)\n",
    "reload(vehicle)\n",
    "from road import Road\n",
    "from vehicle import Vehicle\n",
    "import random\n",
    "import sys"
   ]
  },
  {
   "cell_type": "code",
   "execution_count": 436,
   "metadata": {
    "collapsed": true
   },
   "outputs": [],
   "source": [
    "SPEED_LIMIT              = 10 \n",
    "NUM_LANES                = 4\n",
    "TRAFFIC_DENSITY          = 0.15\n",
    "MAX_ACCEL                = 2\n",
    "\n",
    "LEFT_LANE_SPEED          = SPEED_LIMIT - 1\n",
    "SPEED_DIFF_BETWEEN_LANES = 1\n",
    "\n",
    "RIGHT_LANE_SPEED         = LEFT_LANE_SPEED - (NUM_LANES-1)*SPEED_DIFF_BETWEEN_LANES\n",
    "\n",
    "LANE_SPEEDS = [RIGHT_LANE_SPEED + i*SPEED_DIFF_BETWEEN_LANES for i in range(NUM_LANES)]\n",
    "\n",
    "DT = 1\n",
    "NUM_UPDATES = 250\n",
    "\n",
    "road = Road(SPEED_LIMIT, TRAFFIC_DENSITY, LANE_SPEEDS)\n",
    "\n",
    "road.populate_traffic()\n",
    "\n",
    "config = {\n",
    "    'speed_limit' : SPEED_LIMIT,\n",
    "    'num_lanes' : NUM_LANES,\n",
    "    'goal' : (300, 3),\n",
    "\t    'max_acceleration': MAX_ACCEL\n",
    "}\n",
    "road.add_ego(2,0, config)"
   ]
  },
  {
   "cell_type": "code",
   "execution_count": 457,
   "metadata": {
    "collapsed": false
   },
   "outputs": [],
   "source": [
    "road.get_ego().state = \"KL\""
   ]
  },
  {
   "cell_type": "code",
   "execution_count": 489,
   "metadata": {
    "collapsed": false
   },
   "outputs": [
    {
     "data": {
      "text/plain": [
       "      |     |     |     |     |\n",
       "      |     |     |     |     |\n",
       "      |     |     |     |     |\n",
       "      |     |     |     |     |\n",
       "320 - |     |     |     |     |\n",
       "      | 003 |     |     |     |\n",
       "      |     |     |     |     |\n",
       "      |     |     |     |     |\n",
       "      | 004 |     |     |     |\n",
       "      |     |     |     |     |\n",
       "      |     |     |     |     |\n",
       "      |     |     |     |     |\n",
       "      |     |     |     |     |\n",
       "      |     |     |     |     |\n",
       "      |     |     |     |     |\n",
       "      |     |     |     |     |\n",
       "      |     |     |     |     |\n",
       "      |     |     |     |     |\n",
       "      | 005 |     |     |     |\n",
       "      |     |     |     |     |\n",
       "      |     |     |     |     |\n",
       "      |     |     |     |     |\n",
       "      |     |     |     |     |\n",
       "      |     |     |     |     |\n",
       "340 - |     |     |     |     |\n",
       "      |     |     |     |     |\n",
       "      |     |     |     |     |\n",
       "      |     |     |     |     |\n",
       "      | 006 |     |     |     |\n",
       "      |     |     |     |     |\n",
       "      |     |     |     |     |\n",
       "      |     |     |     |     |\n",
       "      |     |     |     |     |\n",
       "      |     |     |     |     |\n",
       "      |     |     |     |     |\n",
       "      |     | *** |     |     |\n",
       "      |     |     |     |     |\n",
       "      |     |     |     |     |\n",
       "      | 007 | 008 |     |     |\n",
       "      |     |     |     |     |\n",
       "      |     |     |     |     |\n",
       "      |     |     |     |     |\n",
       "      |     |     |     |     |\n",
       "      |     |     |     |     |\n",
       "360 - |     |     |     |     |\n",
       "      |     |     |     |     |\n",
       "      |     |     |     |     |\n",
       "      |     |     |     |     |\n",
       "      |     |     |     |     |\n",
       "      |     |     |     |     |\n",
       "      |     |     |     |     |\n",
       "      |     |     |     |     |\n",
       "      |     |     |     |     |\n",
       "      |     | 009 |     |     |\n",
       "      |     |     |     |     |\n",
       "      |     |     |     |     |\n",
       "      |     | 010 |     |     |\n",
       "      |     |     |     |     |\n",
       "      |     |     |     |     |\n",
       "      |     |     |     |     |\n",
       "      |     | 011 |     |     |\n",
       "      |     |     |     |     |\n",
       "      |     |     |     |     |\n",
       "      |     |     |     |     |\n",
       "380 - |     |     |     |     |\n",
       "      |     |     |     |     |\n",
       "      |     |     |     |     |\n",
       "      |     |     |     |     |\n",
       "      |     |     |     |     |\n",
       "      |     |     |     |     |"
      ]
     },
     "execution_count": 489,
     "metadata": {},
     "output_type": "execute_result"
    }
   ],
   "source": [
    "road.advance()\n",
    "\n",
    "road"
   ]
  },
  {
   "cell_type": "code",
   "execution_count": 62,
   "metadata": {
    "collapsed": true
   },
   "outputs": [],
   "source": [
    "# Markdown\n",
    "\n",
    "\n",
    "\n",
    "\n",
    "\n",
    "\n",
    "\n",
    "\n",
    "\n",
    "\n",
    "\n",
    "\n",
    "\n",
    "\n",
    "\n",
    "\n",
    "\n",
    "\n",
    "\n",
    "\n",
    "\n",
    "\n",
    "\n",
    "\n",
    "\n",
    "\n",
    "\n",
    "\n",
    "\n",
    "\n",
    "\n",
    "\n",
    "\n",
    "\n",
    "\n",
    "\n",
    "\n",
    "\n",
    "\n",
    "\n",
    "\n",
    "\n",
    "\n",
    "\n",
    "\n"
   ]
  },
  {
   "cell_type": "code",
   "execution_count": null,
   "metadata": {
    "collapsed": true
   },
   "outputs": [],
   "source": []
  }
 ],
 "metadata": {
  "kernelspec": {
   "display_name": "Python 2",
   "language": "python",
   "name": "python2"
  },
  "language_info": {
   "codemirror_mode": {
    "name": "ipython",
    "version": 2
   },
   "file_extension": ".py",
   "mimetype": "text/x-python",
   "name": "python",
   "nbconvert_exporter": "python",
   "pygments_lexer": "ipython2",
   "version": "2.7.10"
  }
 },
 "nbformat": 4,
 "nbformat_minor": 0
}
