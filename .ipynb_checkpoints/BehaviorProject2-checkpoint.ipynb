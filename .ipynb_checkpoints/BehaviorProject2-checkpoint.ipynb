{
 "cells": [
  {
   "cell_type": "code",
   "execution_count": null,
   "metadata": {
    "collapsed": true
   },
   "outputs": [],
   "source": [
    "SPEED_LIMIT              = 65 \n",
    "NUM_LANES                = 4\n",
    "TRAFFIC_DENSITY          = 0.05\n",
    "MAX_ACCEL                = 6\n",
    "\n",
    "LEFT_LANE_SPEED          = SPEED_LIMIT - 5\n",
    "SPEED_DIFF_BETWEEN_LANES = 3\n",
    "\n",
    "RIGHT_LANE_SPEED         = LEFT_LANE_SPEED - (NUM_LANES-1)*SPEED_DIFF_BETWEEN_LANES\n",
    "\n",
    "LANE_SPEEDS = [RIGHT_LANE_SPEED + i*SPEED_DIFF_BETWEEN_LANES for i in range(NUM_LANES)]\n",
    "\n",
    "DT = 1\n",
    "NUM_UPDATES = 250\n",
    "\n",
    "def main():\n",
    "    sim = Simulator(LANE_SPEEDS, SPEED_LIMIT)\n",
    "    sim.populate_traffic(TRAFFIC_DENSITY)\n",
    "    sim.add_ego(NUM_LANES[-1], 0 )\n",
    "    \n",
    "    planner = BehaviorPlanner()\n",
    "    trajectory_gen = TrajectoryGenerator()\n",
    "    \n",
    "    for _ in range(NUM_UPDATES):\n",
    "        predictions = sim.get_predictions()\n",
    "        localization = sim.get_localization()\n",
    "        \n",
    "        plan = planner.plan()\n",
    "        trajectory = trajectory_gen.generate_trajectory(plan)\n",
    "        \n",
    "        if not is_valid_lane_change(new_lane, ego.lane): raise ValueError\n",
    "        if not is_valid_acceleration(new_a, ego.a, ego.v ): raise ValueError\n",
    "        sim.set_ego_state(new_lane, new_a)\n",
    "        sim.update_vehicles()\n",
    "        \n",
    "        planner.feed_localization(localization)\n",
    "        planner.feed_predictions(predictions)\n",
    "        \n",
    "        "
   ]
  },
  {
   "cell_type": "code",
   "execution_count": null,
   "metadata": {
    "collapsed": true
   },
   "outputs": [],
   "source": [
    "class Simulator(object):\n",
    "    def __init__(self, lane_speeds, speed_limit):\n",
    "        self.lane_speeds = lane_speeds\n",
    "        self.speed_limit = speed_limit\n",
    "        \n",
    "    def populate_traffic(self, density):\n",
    "        pass\n",
    "    \n",
    "    def add_ego(self, lane_num, s):\n",
    "        pass\n",
    "    \n",
    "    def get_predictions(self):\n",
    "        pass\n",
    "    \n",
    "    def get_localization(self):\n",
    "        pass\n",
    "    \n",
    "    def set_ego_state(self, new_lane, new_a):\n",
    "        pass\n",
    "    \n",
    "    def update_vehicles(self):\n",
    "        pass\n",
    "     "
   ]
  },
  {
   "cell_type": "code",
   "execution_count": null,
   "metadata": {
    "collapsed": true
   },
   "outputs": [],
   "source": []
  },
  {
   "cell_type": "code",
   "execution_count": null,
   "metadata": {
    "collapsed": true
   },
   "outputs": [],
   "source": []
  },
  {
   "cell_type": "code",
   "execution_count": 3,
   "metadata": {},
   "outputs": [],
   "source": [
    "   \n",
    "def is_valid_lane_change(new_lane, old_lane):\n",
    "    if new_lane >= NUM_LANES or new_lane < 0: return False\n",
    "    if abs(new_lane-old_lane) > 1: return False\n",
    "    return True\n",
    "\n",
    "def is_valid_acceleration(new_a, old_a, old_v): \n",
    "    if new_a > MAX_ACCEL or new_a < -MAX_ACCEL: return False\n",
    "    if new_a * DT + old_v > SPEED_LIMIT: return False\n",
    "    return True\n",
    "\n",
    "\n",
    "    "
   ]
  },
  {
   "cell_type": "code",
   "execution_count": null,
   "metadata": {
    "collapsed": true
   },
   "outputs": [],
   "source": []
  }
 ],
 "metadata": {
  "kernelspec": {
   "display_name": "Python 2",
   "language": "python",
   "name": "python2"
  },
  "language_info": {
   "codemirror_mode": {
    "name": "ipython",
    "version": 2
   },
   "file_extension": ".py",
   "mimetype": "text/x-python",
   "name": "python",
   "nbconvert_exporter": "python",
   "pygments_lexer": "ipython2",
   "version": "2.7.11"
  }
 },
 "nbformat": 4,
 "nbformat_minor": 2
}
